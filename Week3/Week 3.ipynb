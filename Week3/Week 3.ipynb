{
 "cells": [
  {
   "cell_type": "markdown",
   "metadata": {},
   "source": [
    "# Technique Assignment 3: Linear regression\n",
    "## Cogs 109 Fall 2020\n",
    "### Xing Hong\n",
    "A15867895"
   ]
  },
  {
   "cell_type": "code",
   "execution_count": 285,
   "metadata": {},
   "outputs": [],
   "source": [
    "import matplotlib.pyplot as plt\n",
    "import numpy as np\n",
    "import pandas as pd\n",
    "%matplotlib inline"
   ]
  },
  {
   "cell_type": "markdown",
   "metadata": {},
   "source": [
    "## 1. (15 points) Datasets and variables\n",
    "\n",
    "Find a dataset from the [UCI machine learning repository](http://archive.ics.uci.edu/ml/index.php) that is suitable for linear regression. Provide a link to your chosen dataset and briefly describe its content.\n",
    "***\n",
    "**Link: http://archive.ics.uci.edu/ml/datasets/Student+Performance#**\n",
    "The data approach student achievement in secondary education of two Portuguese schools. The data attributes include student grades, demographic, social and school related features. Particularly, the attribute G3 (final year grade) has a strong correlation with attributes G2 and G1. \n",
    "\n",
    "**(9)** List the following:\n",
    "* number of variables : 33\n",
    "* number of samples : 649\n",
    "* labels (what is the label?) : sex in F or M, father's job and mother's job with many labels, absences number, etc. \n",
    "The most important ones are the grades seperated with labels of G1, G2, G3 -- which are first, second, third period grade (Math or Portuguese).\n",
    "\n",
    "**(6)** Create and report a research question that you could answer using this dataset and some or all of the variables.\n",
    " Variables: The number of absences of different students, the Math G3 grades of them respectively.\n",
    " Question: whether there is a correlation between the absences of students and the Math grade in their final year. If so, what pattern will it be?\n",
    "Method: By building linear regression models, comparing the MES of different regression models, applying cross validation,and eventually plot the regression line of best scored model on scatter plot, we can see the correlation between absence and final year grade of students."
   ]
  },
  {
   "cell_type": "markdown",
   "metadata": {},
   "source": [
    "## 2. (20) Arrays and numpy\n",
    "This tutorial should be very helpful:\n",
    "https://www.numpy.org/devdocs/user/quickstart.html\n",
    "### a. **(10)**\n",
    "Use arange() and reshape() from numpy to create a 4x5 array containing the integers 1 through 20.\n",
    "Append a column of ones to the left of your array to create a 4x6 array.\n",
    "Multiply every element of the array by 2.\n",
    "Print **only** the resulting array."
   ]
  },
  {
   "cell_type": "code",
   "execution_count": 286,
   "metadata": {},
   "outputs": [
    {
     "name": "stdout",
     "output_type": "stream",
     "text": [
      "[[ 2.  2.  4.  6.  8. 10.]\n",
      " [ 2. 12. 14. 16. 18. 20.]\n",
      " [ 2. 22. 24. 26. 28. 30.]\n",
      " [ 2. 32. 34. 36. 38. 40.]]\n"
     ]
    }
   ],
   "source": [
    "a = np.arange(1,21).reshape(4,5)\n",
    "b = np.ones(4)\n",
    "c = np.c_[b,a]*2\n",
    "print(c)"
   ]
  },
  {
   "cell_type": "markdown",
   "metadata": {},
   "source": [
    "### b. (10)\n",
    "Use linspace() and reshape() to create a 20 x 20 array that contains a smooth range of values between 0 and 1, inclusive.\n",
    "\n",
    "Create a scatter plot using the first (leftmost) column of your array as the x values and the last (rightmost) column of your array as the y values. Use x limits 0 and 1 and y limits 0 and 1 for your plot."
   ]
  },
  {
   "cell_type": "code",
   "execution_count": 287,
   "metadata": {},
   "outputs": [
    {
     "data": {
      "image/png": "[encoded data removed]",
      "text/plain": [
       "<Figure size 432x288 with 1 Axes>"
      ]
     },
     "metadata": {
      "needs_background": "light"
     },
     "output_type": "display_data"
    }
   ],
   "source": [
    "d = np.linspace(0,1,num=400).reshape(20,20)\n",
    "x = d[:,0]\n",
    "y = d[:,-1]\n",
    "plt.scatter(x,y)\n",
    "plt.xlim(0, 1)\n",
    "plt.ylim(0, 1)\n",
    "plt.show()"
   ]
  },
  {
   "cell_type": "markdown",
   "metadata": {},
   "source": [
    "## 3. (40 points) Univariate linear regression\n",
    "\n",
    "*Note: Solutions to this problem must follow the method described in class and the linear regression handout. There is some flexibility in how your solution is coded, but you may not use special functions that automatically perform linear regression for you.*\n",
    "\n",
    "Load in the BodyBrainWeight.csv dataset. Perform linear regression using two different models:\n",
    "\n",
    "M1: brain_weight = w0 + w1 x body_weight\n",
    "\n",
    "M2: brain_weight = w0 + w1 x body_weight + w2 x body_weight^2\n",
    "\n",
    "### a. **(15)**\n",
    "For each model, follow the steps shown in class to solve for w. Report the model, including w values and variable names for both models.\n",
    "\n",
    "\n",
    "### b. **(10)**\n",
    "Use subplots to display two graphs, one for each model. In each graph, include:\n",
    "* Labeled x and y axes\n",
    "* Title\n",
    "* Scatterplot of the dataset\n",
    "* A smooth line representing the model\n",
    "\n",
    "### c. **(10)**\n",
    "For each model, calculate the sum squared error (SSE). Show your 2 SSE values together in a bar plot.\n",
    "\n",
    "### c. **(5)**\n",
    "Which model do you think is better? Why? Is there a different model that you think would better represent the data?"
   ]
  },
  {
   "cell_type": "code",
   "execution_count": 288,
   "metadata": {},
   "outputs": [
    {
     "data": {
      "text/plain": [
       "(46,)"
      ]
     },
     "execution_count": 288,
     "metadata": {},
     "output_type": "execute_result"
    }
   ],
   "source": [
    "## Load the dataset and extract Brain weight as X and Body weight as Y\n",
    "\n",
    "bbdata = pd.read_csv(\"BodyBrainWeight.csv\").values\n",
    "\n",
    "X = bbdata[:,0]\n",
    "Y = bbdata[:,1]\n",
    "\n",
    "# This is good for debugging\n",
    "X.shape"
   ]
  },
  {
   "cell_type": "code",
   "execution_count": 289,
   "metadata": {},
   "outputs": [
    {
     "name": "stdout",
     "output_type": "stream",
     "text": [
      "Model M1: \n",
      "Brain weight = 124.92810522680392 + 0.9370390990165334*body_weight\n"
     ]
    }
   ],
   "source": [
    "## Create A, the augmented data array\n",
    "\n",
    "ones = np.ones(46)\n",
    "\n",
    "A1 = np.c_[ones,X]\n",
    "\n",
    "## Solve for w, the weight vector\n",
    "\n",
    "w1 = np.linalg.lstsq(A1,Y,rcond=None)[0]\n",
    "print(\"Model M1: \")\n",
    "print(\"Brain weight = {0} + {1}*body_weight\".format(w1[0],w1[1])) "
   ]
  },
  {
   "cell_type": "code",
   "execution_count": 290,
   "metadata": {},
   "outputs": [
    {
     "name": "stdout",
     "output_type": "stream",
     "text": [
      "Model M2:\n",
      "Brain weight = 49.09136906591356 + 1.5904622228726575*body_weight + -0.00010869568419802459*body_weight^2\n"
     ]
    }
   ],
   "source": [
    "## Create A, the augmented data array\n",
    "\n",
    "ones = np.ones(46)\n",
    "squares = X**2\n",
    "\n",
    "A2 = np.c_[ones,X,squares]\n",
    "\n",
    "## Solve for w, the weight vector\n",
    "w2 = np.linalg.lstsq(A2,Y,rcond=None)[0]\n",
    "print(\"Model M2:\")\n",
    "print(\"Brain weight = {0} + {1}*body_weight + {2}*body_weight^2\".format(w2[0],w2[1],w2[2])) "
   ]
  },
  {
   "cell_type": "code",
   "execution_count": 291,
   "metadata": {},
   "outputs": [],
   "source": [
    "## Create a smooth set of X values for plotting the model\n",
    "X_line = np.linspace(0,6700,100000)\n",
    "\n",
    "## Send the X values for plotting through the linear model\n",
    "Y_line_M1 = w1[0] + w1[1]*X_line\n",
    "Y_line_M2 = w2[0] + w2[1]*X_line + w2[2]*(X_line**2)"
   ]
  },
  {
   "cell_type": "code",
   "execution_count": 292,
   "metadata": {},
   "outputs": [
    {
     "data": {
      "text/plain": [
       "<function matplotlib.pyplot.show(close=None, block=None)>"
      ]
     },
     "execution_count": 292,
     "metadata": {},
     "output_type": "execute_result"
    },
    {
     "data": {
      "image/png": "[encoded data removed]",
      "text/plain": [
       "<Figure size 432x288 with 2 Axes>"
      ]
     },
     "metadata": {
      "needs_background": "light"
     },
     "output_type": "display_data"
    }
   ],
   "source": [
    "## Plot the data along with the model\n",
    "plt.subplot(1,2,1)\n",
    "plt.scatter(X,Y)\n",
    "plt.plot(X_line,Y_line_M1,'b')\n",
    "plt.xlabel('Body_Weight')\n",
    "plt.ylabel('Brain_Weight')\n",
    "plt.title('Regression of M1')\n",
    "\n",
    "plt.subplot(1,2,2)\n",
    "plt.scatter(X,Y)\n",
    "plt.plot(X_line,Y_line_M2,'r')\n",
    "plt.xlabel('Body_Weight')\n",
    "plt.ylabel('Brain_Weight')\n",
    "plt.title('Regression of M2')\n",
    "plt.subplots_adjust(wspace =1)\n",
    "plt.show # This lets you plot multiple inputs on the same graph"
   ]
  },
  {
   "cell_type": "code",
   "execution_count": 293,
   "metadata": {},
   "outputs": [
    {
     "name": "stdout",
     "output_type": "stream",
     "text": [
      "7317401.2702330705 5497572.515005937\n"
     ]
    },
    {
     "data": {
      "image/png": "[encoded data removed]",
      "text/plain": [
       "<Figure size 432x288 with 1 Axes>"
      ]
     },
     "metadata": {
      "needs_background": "light"
     },
     "output_type": "display_data"
    }
   ],
   "source": [
    "Y_SSE_M1 = w1[0] + w1[1]*X\n",
    "Y_SSE_M2 = w2[0] + w2[1]*X + w2[2]*(X**2)\n",
    "SSE_M1 = sum((Y_SSE_M1 - Y)**2)\n",
    "SSE_M2 = sum((Y_SSE_M2 - Y)**2)\n",
    "print(SSE_M1, SSE_M2)\n",
    "\n",
    "plt.bar(['M1', 'M2'], [SSE_M1, SSE_M2])\n",
    "plt.title('SSE of M1 & M2')\n",
    "plt.show()"
   ]
  },
  {
   "cell_type": "markdown",
   "metadata": {},
   "source": [
    "**Based on the SSE of two regression models, I think M2 is more accurate, since it's SSE is lower, which means that the error of prediction is lower. logarithm function as predictor may also have a good performance.**\n",
    "****\n",
    "****\n",
    "****"
   ]
  },
  {
   "cell_type": "markdown",
   "metadata": {},
   "source": [
    "### Outliers\n",
    "*** Note: Since a few intances in the data could be considered as outlier, and I wasn't sure if we can remove these instances for this project.(data cleaning) Therefore I decide to do all the above without the outliers. ***"
   ]
  },
  {
   "cell_type": "code",
   "execution_count": 294,
   "metadata": {},
   "outputs": [
    {
     "data": {
      "text/plain": [
       "(42,)"
      ]
     },
     "execution_count": 294,
     "metadata": {},
     "output_type": "execute_result"
    }
   ],
   "source": [
    "array_new = bbdata[bbdata[:,0] < 600, :]\n",
    "array_new = array_new[array_new[:,1] < 1000, :]\n",
    "X = array_new[:,0]\n",
    "Y = array_new[:,1]\n",
    "X.shape"
   ]
  },
  {
   "cell_type": "code",
   "execution_count": 295,
   "metadata": {},
   "outputs": [
    {
     "name": "stdout",
     "output_type": "stream",
     "text": [
      "Model M1: \n",
      "Brain weight = 59.975815588616065 + 1.2092588736819594*body_weight\n"
     ]
    }
   ],
   "source": [
    "ones = np.ones(42)\n",
    "A1 = np.c_[ones,X]\n",
    "w1 = np.linalg.lstsq(A1,Y,rcond=None)[0]\n",
    "print(\"Model M1: \")\n",
    "print(\"Brain weight = {0} + {1}*body_weight\".format(w1[0],w1[1])) "
   ]
  },
  {
   "cell_type": "code",
   "execution_count": 296,
   "metadata": {},
   "outputs": [
    {
     "name": "stdout",
     "output_type": "stream",
     "text": [
      "Model M2:\n",
      "Brain weight = 37.53376736292012 + 2.113175362433763*body_weight + -0.0019052787879908107*body_weight^2\n"
     ]
    }
   ],
   "source": [
    "ones = np.ones(42)\n",
    "squares = X**2\n",
    "A2 = np.c_[ones,X,squares]\n",
    "w2 = np.linalg.lstsq(A2,Y,rcond=None)[0]\n",
    "print(\"Model M2:\")\n",
    "print(\"Brain weight = {0} + {1}*body_weight + {2}*body_weight^2\".format(w2[0],w2[1],w2[2])) "
   ]
  },
  {
   "cell_type": "code",
   "execution_count": 297,
   "metadata": {},
   "outputs": [],
   "source": [
    "X_line = np.linspace(0,600,10000)\n",
    "\n",
    "Y_line_M1 = w1[0] + w1[1]*X_line\n",
    "Y_line_M2 = w2[0] + w2[1]*X_line + w2[2]*(X_line**2)"
   ]
  },
  {
   "cell_type": "code",
   "execution_count": 298,
   "metadata": {},
   "outputs": [
    {
     "data": {
      "text/plain": [
       "<function matplotlib.pyplot.show(close=None, block=None)>"
      ]
     },
     "execution_count": 298,
     "metadata": {},
     "output_type": "execute_result"
    },
    {
     "data": {
      "image/png": "[encoded data removed]",
      "text/plain": [
       "<Figure size 432x288 with 2 Axes>"
      ]
     },
     "metadata": {
      "needs_background": "light"
     },
     "output_type": "display_data"
    }
   ],
   "source": [
    "## Plot the data along with the model\n",
    "plt.subplot(1,2,1)\n",
    "plt.scatter(X,Y)\n",
    "plt.plot(X_line,Y_line_M1,'b')\n",
    "plt.xlabel('Body_Weight')\n",
    "plt.ylabel('Brain_Weight')\n",
    "plt.title('Regression of M1')\n",
    "\n",
    "plt.subplot(1,2,2)\n",
    "plt.scatter(X,Y)\n",
    "plt.plot(X_line,Y_line_M2,'r')\n",
    "plt.xlabel('Body_Weight')\n",
    "plt.ylabel('Brain_Weight')\n",
    "plt.title('Regression of M2')\n",
    "plt.subplots_adjust(wspace =1)\n",
    "plt.show # This lets you plot multiple inputs on the same graph"
   ]
  },
  {
   "cell_type": "code",
   "execution_count": 299,
   "metadata": {},
   "outputs": [
    {
     "name": "stdout",
     "output_type": "stream",
     "text": [
      "373889.5726862877 312188.95500153996\n"
     ]
    },
    {
     "data": {
      "image/png": "[encoded data removed]",
      "text/plain": [
       "<Figure size 432x288 with 1 Axes>"
      ]
     },
     "metadata": {
      "needs_background": "light"
     },
     "output_type": "display_data"
    }
   ],
   "source": [
    "Y_SSE_M1 = w1[0] + w1[1]*X\n",
    "Y_SSE_M2 = w2[0] + w2[1]*X + w2[2]*(X**2)\n",
    "SSE_M1 = sum((Y_SSE_M1 - Y)**2)\n",
    "SSE_M2 = sum((Y_SSE_M2 - Y)**2)\n",
    "print(SSE_M1, SSE_M2)\n",
    "\n",
    "plt.bar(['M1', 'M2'], [SSE_M1, SSE_M2])\n",
    "plt.title('SSE of M1 & M2')\n",
    "plt.show()"
   ]
  },
  {
   "cell_type": "markdown",
   "metadata": {},
   "source": [
    "**Which leads to conclusion, without outliers, M2 is still better then M1 for the reason of lower SSE. Without outliers, Logarithm can be a better model which worth to try.**"
   ]
  },
  {
   "cell_type": "markdown",
   "metadata": {},
   "source": [
    "## 4. (25 points) Multivariate linear regression with cross validation\n",
    "\n",
    "Using the dataset found in Housing.csv, build a multivariate model to predict house price using lot size and the number of bedrooms as predictors.\n",
    "\n",
    "Hint: You may use this as your model:\n",
    "\n",
    "Price = w0 + w1 x Lot size + w2 x Bedrooms\n",
    "\n",
    "First, split your data into a training set (80%) and a test set (20%). Then perform linear regression using the **training data** only. Report your model and show the mean squared error (MSE) for your **training** and **test** data using a bar graph.\n",
    "\n",
    "MSE can be found by dividing SSE by the number of samples in your data.\n"
   ]
  },
  {
   "cell_type": "code",
   "execution_count": 300,
   "metadata": {},
   "outputs": [],
   "source": [
    "from sklearn.model_selection import train_test_split"
   ]
  },
  {
   "cell_type": "code",
   "execution_count": 270,
   "metadata": {},
   "outputs": [
    {
     "name": "stdout",
     "output_type": "stream",
     "text": [
      "df shape (546, 13)\n",
      "(546,) (546,) (546,)\n",
      "(436, 3) (436,)\n",
      "(110, 3) (110,)\n"
     ]
    }
   ],
   "source": [
    "## Load the housing data\n",
    "\n",
    "df = pd.read_csv(\"Housing.csv\")\n",
    "print('df shape', df.shape)\n",
    "# Extract the variables\n",
    "\n",
    "Y = df['price'].values\n",
    "X1 = df['lotsize'].values\n",
    "X2 = df['bedrooms'].values\n",
    "print(X1.shape, X2.shape, Y.shape)\n",
    "\n",
    "ones = np.ones(546)\n",
    "X_array = np.c_[ones,X1,X2]\n",
    "X_train, X_test, Y_train, Y_test = train_test_split(X_array, Y, test_size=0.2, random_state=0)\n",
    "print (X_train.shape, Y_train.shape)\n",
    "print (X_test.shape, Y_test.shape)"
   ]
  },
  {
   "cell_type": "code",
   "execution_count": 271,
   "metadata": {},
   "outputs": [
    {
     "name": "stdout",
     "output_type": "stream",
     "text": [
      "Model multi:\n",
      "Price = 4995.926608045902 + 6.275451573294228*Lot_size + 10471.848450761476*Bedrooms\n"
     ]
    }
   ],
   "source": [
    "w3 = np.linalg.lstsq(X_train,Y_train,rcond=None)[0]\n",
    "print(\"Model multi:\")\n",
    "print(\"Price = {0} + {1}*Lot_size + {2}*Bedrooms\".format(w3[0],w3[1],w3[2])) "
   ]
  },
  {
   "cell_type": "code",
   "execution_count": 272,
   "metadata": {},
   "outputs": [
    {
     "name": "stdout",
     "output_type": "stream",
     "text": [
      "448450630.68091935 448612842.5056583\n"
     ]
    },
    {
     "data": {
      "image/png": "[encoded data removed]",
      "text/plain": [
       "<Figure size 432x288 with 1 Axes>"
      ]
     },
     "metadata": {
      "needs_background": "light"
     },
     "output_type": "display_data"
    }
   ],
   "source": [
    "#MSE for train\n",
    "Y_SSE_M3_train = w3[0] + w3[1]*X_train[:,1] + w3[2]*X_train[:,2]\n",
    "MSE_M3_train = sum((Y_SSE_M3_train - Y_train)**2)/436\n",
    "\n",
    "#MSE for test\n",
    "Y_SSE_M3_test = w3[0] + w3[1]*X_test[:,1] + w3[2]*X_test[:,2]\n",
    "MSE_M3_test = sum((Y_SSE_M3_test - Y_test)**2)/110\n",
    "\n",
    "print(MSE_M3_train, MSE_M3_test)\n",
    "\n",
    "plt.bar(['Train', 'Test'], [MSE_M3_train, MSE_M3_test])\n",
    "plt.title('MSE of Train and Test')\n",
    "plt.show()"
   ]
  },
  {
   "cell_type": "markdown",
   "metadata": {},
   "source": [
    "****\n",
    "****\n",
    "****\n",
    "### Extra"
   ]
  },
  {
   "cell_type": "code",
   "execution_count": 273,
   "metadata": {},
   "outputs": [],
   "source": [
    "from mpl_toolkits.mplot3d import axes3d"
   ]
  },
  {
   "cell_type": "code",
   "execution_count": 274,
   "metadata": {},
   "outputs": [
    {
     "data": {
      "image/png": "[encoded data removed]",
      "text/plain": [
       "<Figure size 432x288 with 1 Axes>"
      ]
     },
     "metadata": {},
     "output_type": "display_data"
    }
   ],
   "source": [
    "plt.figure(\"3D Scatter\", facecolor=\"lightgray\")\n",
    "ax3d = plt.gca(projection=\"3d\")\n",
    "plt.title('3D Scatter', fontsize=20)\n",
    "ax3d.set_xlabel('x1', fontsize=14)\n",
    "ax3d.set_ylabel('x2', fontsize=14)\n",
    "ax3d.set_zlabel('y', fontsize=14)\n",
    "plt.tick_params(labelsize=10)\n",
    "\n",
    "d = np.sqrt(X1 ** 2 + X2 ** 2 + Y ** 2)\n",
    "ax3d.scatter(X1, X2, Y, s=20, c=d, cmap=\"jet\", marker=\"o\")\n",
    "plt.tight_layout()"
   ]
  },
  {
   "cell_type": "markdown",
   "metadata": {},
   "source": [
    "From the graph, I can see a rise of Y(price) with a tendency of flattening at the end when X2(bedrooms) are more and relatively unchanged when X1(Lot) getting bigger. So I will try Logarithm grow on X2."
   ]
  },
  {
   "cell_type": "code",
   "execution_count": 282,
   "metadata": {},
   "outputs": [],
   "source": [
    "X_array = np.c_[ones,X1, np.log(X2)]\n",
    "X_train, X_test, Y_train, Y_test = train_test_split(X_array, Y, test_size=0.2, random_state=0)"
   ]
  },
  {
   "cell_type": "code",
   "execution_count": 283,
   "metadata": {},
   "outputs": [
    {
     "name": "stdout",
     "output_type": "stream",
     "text": [
      "Model multi-2:\n",
      "Price = 2751.991886079015 + 6.221962229880475*Lot_size + 31865.177384041413*Bedrooms^2\n"
     ]
    }
   ],
   "source": [
    "w4 = np.linalg.lstsq(X_train,Y_train,rcond=None)[0]\n",
    "print(\"Model multi-2:\")\n",
    "print(\"Price = {0} + {1}*Lot_size + {2}*Bedrooms^2\".format(w4[0],w4[1],w4[2])) "
   ]
  },
  {
   "cell_type": "code",
   "execution_count": 284,
   "metadata": {},
   "outputs": [
    {
     "name": "stdout",
     "output_type": "stream",
     "text": [
      "New Model: 442474788.73482835 446321796.54369694\n",
      "Original:  448450630.68091935 448612842.5056583\n"
     ]
    },
    {
     "data": {
      "text/plain": [
       "Text(0.5, 1.0, 'Original')"
      ]
     },
     "execution_count": 284,
     "metadata": {},
     "output_type": "execute_result"
    },
    {
     "data": {
      "image/png": "[encoded data removed]",
      "text/plain": [
       "<Figure size 432x288 with 2 Axes>"
      ]
     },
     "metadata": {
      "needs_background": "light"
     },
     "output_type": "display_data"
    }
   ],
   "source": [
    "#MSE for train\n",
    "Y_SSE_M4_train = w4[0] + w4[1]*X_train[:,1] + w4[2]*X_train[:,2]\n",
    "MSE_M4_train = sum((Y_SSE_M4_train - Y_train)**2)/436\n",
    "\n",
    "#MSE for test\n",
    "Y_SSE_M4_test = w4[0] + w4[1]*X_test[:,1] + w4[2]*X_test[:,2]\n",
    "MSE_M4_test = sum((Y_SSE_M4_test - Y_test)**2)/110\n",
    "\n",
    "print(\"New Model:\", MSE_M4_train, MSE_M4_test)\n",
    "print(\"Original: \", MSE_M3_train, MSE_M3_test)\n",
    "\n",
    "plt.subplot(1,2,1)\n",
    "plt.bar(['Train', 'Test'], [MSE_M4_train, MSE_M4_test])\n",
    "plt.title('New Model')\n",
    "\n",
    "plt.subplot(1,2,2)\n",
    "plt.bar(['Train', 'Test'], [MSE_M4_train, MSE_M4_test])\n",
    "plt.title('Original')"
   ]
  },
  {
   "cell_type": "code",
   "execution_count": null,
   "metadata": {},
   "outputs": [],
   "source": []
  }
 ],
 "metadata": {
  "kernelspec": {
   "display_name": "Python 3",
   "language": "python",
   "name": "python3"
  },
  "language_info": {
   "codemirror_mode": {
    "name": "ipython",
    "version": 3
   },
   "file_extension": ".py",
   "mimetype": "text/x-python",
   "name": "python",
   "nbconvert_exporter": "python",
   "pygments_lexer": "ipython3",
   "version": "3.8.3"
  },
  "latex_envs": {
   "LaTeX_envs_menu_present": true,
   "autoclose": false,
   "autocomplete": true,
   "bibliofile": "biblio.bib",
   "cite_by": "apalike",
   "current_citInitial": 1,
   "eqLabelWithNumbers": true,
   "eqNumInitial": 1,
   "hotkeys": {
    "equation": "Ctrl-E",
    "itemize": "Ctrl-I"
   },
   "labels_anchors": false,
   "latex_user_defs": false,
   "report_style_numbering": false,
   "user_envs_cfg": false
  },
  "toc": {
   "base_numbering": 1,
   "nav_menu": {},
   "number_sections": true,
   "sideBar": true,
   "skip_h1_title": false,
   "title_cell": "Table of Contents",
   "title_sidebar": "Contents",
   "toc_cell": false,
   "toc_position": {},
   "toc_section_display": true,
   "toc_window_display": false
  },
  "varInspector": {
   "cols": {
    "lenName": 16,
    "lenType": 16,
    "lenVar": 40
   },
   "kernels_config": {
    "python": {
     "delete_cmd_postfix": "",
     "delete_cmd_prefix": "del ",
     "library": "var_list.py",
     "varRefreshCmd": "print(var_dic_list())"
    },
    "r": {
     "delete_cmd_postfix": ") ",
     "delete_cmd_prefix": "rm(",
     "library": "var_list.r",
     "varRefreshCmd": "cat(var_dic_list()) "
    }
   },
   "types_to_exclude": [
    "module",
    "function",
    "builtin_function_or_method",
    "instance",
    "_Feature"
   ],
   "window_display": false
  }
 },
 "nbformat": 4,
 "nbformat_minor": 2
}
